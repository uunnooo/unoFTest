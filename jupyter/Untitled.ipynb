{
 "cells": [
  {
   "cell_type": "code",
   "execution_count": 1,
   "id": "529c2d78",
   "metadata": {},
   "outputs": [],
   "source": [
    "import yfinance as YF"
   ]
  },
  {
   "cell_type": "code",
   "execution_count": 2,
   "id": "d7fdd36f",
   "metadata": {},
   "outputs": [],
   "source": [
    "GetFacebookInformation = YF.Ticker(\"FB\")"
   ]
  },
  {
   "cell_type": "code",
   "execution_count": 3,
   "id": "7b963b5e",
   "metadata": {},
   "outputs": [
    {
     "name": "stdout",
     "output_type": "stream",
     "text": [
      "{'zip': '94025', 'sector': 'Communication Services', 'fullTimeEmployees': 63404, 'longBusinessSummary': \"Facebook, Inc. develops products that enable people to connect and share with friends and family through mobile devices, personal computers, virtual reality headsets, and in-home devices worldwide. The company's products include Facebook that enables people to connect, share, discover, and communicate with each other on mobile devices and personal computers; Instagram, a community for sharing photos, videos, and private messages; Messenger, a messaging application for people to connect with friends, family, groups, and businesses across platforms and devices; and WhatsApp, a messaging application that is used by people and businesses to communicate in a private way. It also provides Facebook Reality Labs, an augmented and virtual reality product that help people feel connected, anytime, and anywhere. Facebook, Inc. was founded in 2004 and is headquartered in Menlo Park, California.\", 'city': 'Menlo Park', 'phone': '650-543-4800', 'state': 'CA', 'country': 'United States', 'companyOfficers': [], 'website': 'http://investor.fb.com', 'maxAge': 1, 'address1': '1601 Willow Road', 'industry': 'Internet Content & Information', 'ebitdaMargins': 0.49698, 'profitMargins': 0.37175998, 'grossMargins': 0.80977, 'operatingCashflow': 49358000128, 'revenueGrowth': 0.556, 'operatingMargins': 0.42523, 'ebitda': 52079001600, 'targetLowPrice': 225, 'recommendationKey': 'buy', 'grossProfits': 69273000000, 'freeCashflow': 22740000768, 'targetMedianPrice': 425, 'currentPrice': 341.88, 'earningsGrowth': 1.006, 'currentRatio': 5.425, 'returnOnAssets': 0.17950001, 'numberOfAnalystOpinions': 50, 'targetMeanPrice': 418.02, 'debtToEquity': 9.089, 'returnOnEquity': 0.31332, 'targetHighPrice': 500, 'totalCash': 64079998976, 'totalDebt': 12563000320, 'totalRevenue': 104789999616, 'totalCashPerShare': 22.728, 'financialCurrency': 'USD', 'revenuePerShare': 36.82, 'quickRatio': 5.095, 'recommendationMean': 1.9, 'exchange': 'NMS', 'shortName': 'Facebook, Inc.', 'longName': 'Facebook, Inc.', 'exchangeTimezoneName': 'America/New_York', 'exchangeTimezoneShortName': 'EDT', 'isEsgPopulated': False, 'gmtOffSetMilliseconds': '-14400000', 'quoteType': 'EQUITY', 'symbol': 'FB', 'messageBoardId': 'finmb_20765463', 'market': 'us_market', 'annualHoldingsTurnover': None, 'enterpriseToRevenue': 8.707, 'beta3Year': None, 'enterpriseToEbitda': 17.519, '52WeekChange': 0.20046353, 'morningStarRiskRating': None, 'forwardEps': 16.02, 'revenueQuarterlyGrowth': None, 'sharesOutstanding': 2383810048, 'fundInceptionDate': None, 'annualReportExpenseRatio': None, 'totalAssets': None, 'bookValue': 48.913, 'sharesShort': 25835340, 'sharesPercentSharesOut': 0.0092, 'fundFamily': None, 'lastFiscalYearEnd': 1609372800, 'heldPercentInstitutions': 0.8056, 'netIncomeToCommon': 38956998656, 'trailingEps': 13.466, 'lastDividendValue': None, 'SandP52WeekChange': 0.3129201, 'priceToBook': 6.9895535, 'heldPercentInsiders': 0.00602, 'nextFiscalYearEnd': 1672444800, 'yield': None, 'mostRecentQuarter': 1625011200, 'shortRatio': 1.63, 'sharesShortPreviousMonthDate': 1630368000, 'floatShares': 2372252409, 'beta': 1.322222, 'enterpriseValue': 912394682368, 'priceHint': 2, 'threeYearAverageReturn': None, 'lastSplitDate': None, 'lastSplitFactor': None, 'legalType': None, 'lastDividendDate': None, 'morningStarOverallRating': None, 'earningsQuarterlyGrowth': 1.007, 'priceToSalesTrailing12Months': 9.198494, 'dateShortInterest': 1632960000, 'pegRatio': 0.85, 'ytdReturn': None, 'forwardPE': 21.340824, 'lastCapGain': None, 'shortPercentOfFloat': 0.0109, 'sharesShortPriorMonth': 27551342, 'impliedSharesOutstanding': 2819440128, 'category': None, 'fiveYearAverageReturn': None, 'previousClose': 340.78, 'regularMarketOpen': 340.275, 'twoHundredDayAverage': 340.02136, 'trailingAnnualDividendYield': None, 'payoutRatio': 0, 'volume24Hr': None, 'regularMarketDayHigh': 342.31, 'navPrice': None, 'averageDailyVolume10Day': 19041687, 'regularMarketPreviousClose': 340.78, 'fiftyDayAverage': 349.75458, 'trailingAnnualDividendRate': None, 'open': 340.275, 'toCurrency': None, 'averageVolume10days': 19041687, 'expireDate': None, 'algorithm': None, 'dividendRate': None, 'exDividendDate': None, 'circulatingSupply': None, 'startDate': None, 'regularMarketDayLow': 337.8, 'currency': 'USD', 'trailingPE': 25.388386, 'regularMarketVolume': 16354423, 'lastMarket': None, 'maxSupply': None, 'openInterest': None, 'marketCap': 963910172672, 'volumeAllCurrencies': None, 'strikePrice': None, 'averageVolume': 16167456, 'dayLow': 337.8, 'ask': 0, 'askSize': 800, 'volume': 16354423, 'fiftyTwoWeekHigh': 384.33, 'fromCurrency': None, 'fiveYearAvgDividendYield': None, 'fiftyTwoWeekLow': 244.61, 'bid': 329.5, 'tradeable': False, 'dividendYield': None, 'bidSize': 1200, 'dayHigh': 342.31, 'regularMarketPrice': 341.88, 'preMarketPrice': 327.46, 'logo_url': 'https://logo.clearbit.com/investor.fb.com'}\n"
     ]
    }
   ],
   "source": [
    "print(GetFacebookInformation.info)"
   ]
  },
  {
   "cell_type": "code",
   "execution_count": null,
   "id": "a783537b",
   "metadata": {},
   "outputs": [],
   "source": []
  }
 ],
 "metadata": {
  "kernelspec": {
   "display_name": "Python 3 (ipykernel)",
   "language": "python",
   "name": "python3"
  },
  "language_info": {
   "codemirror_mode": {
    "name": "ipython",
    "version": 3
   },
   "file_extension": ".py",
   "mimetype": "text/x-python",
   "name": "python",
   "nbconvert_exporter": "python",
   "pygments_lexer": "ipython3",
   "version": "3.8.12"
  }
 },
 "nbformat": 4,
 "nbformat_minor": 5
}
